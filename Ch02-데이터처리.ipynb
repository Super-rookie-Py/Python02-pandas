{
 "cells": [
  {
   "cell_type": "markdown",
   "metadata": {},
   "source": [
    "### 6.판다스 배열\n",
    "#### 2020/ 05/ 19 Keonwoo Park"
   ]
  },
  {
   "cell_type": "code",
   "execution_count": 8,
   "metadata": {},
   "outputs": [],
   "source": [
    "import pandas as pd"
   ]
  },
  {
   "cell_type": "code",
   "execution_count": 9,
   "metadata": {},
   "outputs": [],
   "source": [
    "df = pd.read_csv(\"grade_2.csv\")"
   ]
  },
  {
   "cell_type": "code",
   "execution_count": 11,
   "metadata": {},
   "outputs": [
    {
     "data": {
      "text/html": [
       "<div>\n",
       "<style scoped>\n",
       "    .dataframe tbody tr th:only-of-type {\n",
       "        vertical-align: middle;\n",
       "    }\n",
       "\n",
       "    .dataframe tbody tr th {\n",
       "        vertical-align: top;\n",
       "    }\n",
       "\n",
       "    .dataframe thead th {\n",
       "        text-align: right;\n",
       "    }\n",
       "</style>\n",
       "<table border=\"1\" class=\"dataframe\">\n",
       "  <thead>\n",
       "    <tr style=\"text-align: right;\">\n",
       "      <th></th>\n",
       "      <th>id</th>\n",
       "      <th>msex</th>\n",
       "      <th>csex</th>\n",
       "      <th>grade</th>\n",
       "    </tr>\n",
       "  </thead>\n",
       "  <tbody>\n",
       "    <tr>\n",
       "      <th>0</th>\n",
       "      <td>1</td>\n",
       "      <td>Male</td>\n",
       "      <td>1</td>\n",
       "      <td>3</td>\n",
       "    </tr>\n",
       "    <tr>\n",
       "      <th>1</th>\n",
       "      <td>2</td>\n",
       "      <td>Male</td>\n",
       "      <td>1</td>\n",
       "      <td>4</td>\n",
       "    </tr>\n",
       "    <tr>\n",
       "      <th>2</th>\n",
       "      <td>3</td>\n",
       "      <td>Male</td>\n",
       "      <td>1</td>\n",
       "      <td>5</td>\n",
       "    </tr>\n",
       "    <tr>\n",
       "      <th>3</th>\n",
       "      <td>4</td>\n",
       "      <td>Male</td>\n",
       "      <td>1</td>\n",
       "      <td>3</td>\n",
       "    </tr>\n",
       "    <tr>\n",
       "      <th>4</th>\n",
       "      <td>5</td>\n",
       "      <td>Male</td>\n",
       "      <td>1</td>\n",
       "      <td>2</td>\n",
       "    </tr>\n",
       "  </tbody>\n",
       "</table>\n",
       "</div>"
      ],
      "text/plain": [
       "   id  msex  csex  grade\n",
       "0   1  Male     1      3\n",
       "1   2  Male     1      4\n",
       "2   3  Male     1      5\n",
       "3   4  Male     1      3\n",
       "4   5  Male     1      2"
      ]
     },
     "execution_count": 11,
     "metadata": {},
     "output_type": "execute_result"
    }
   ],
   "source": [
    "df.head()"
   ]
  },
  {
   "cell_type": "code",
   "execution_count": 12,
   "metadata": {},
   "outputs": [],
   "source": [
    "# 데이터프레임으로 pd.DataFrame(df)"
   ]
  },
  {
   "cell_type": "code",
   "execution_count": 14,
   "metadata": {},
   "outputs": [
    {
     "data": {
      "text/plain": [
       "(50, 4)"
      ]
     },
     "execution_count": 14,
     "metadata": {},
     "output_type": "execute_result"
    }
   ],
   "source": [
    "df.shape"
   ]
  },
  {
   "cell_type": "code",
   "execution_count": 16,
   "metadata": {},
   "outputs": [
    {
     "data": {
      "text/plain": [
       "RangeIndex(start=0, stop=50, step=1)"
      ]
     },
     "execution_count": 16,
     "metadata": {},
     "output_type": "execute_result"
    }
   ],
   "source": [
    "df.index"
   ]
  },
  {
   "cell_type": "markdown",
   "metadata": {},
   "source": [
    "#### 열 값들을 확인"
   ]
  },
  {
   "cell_type": "code",
   "execution_count": 20,
   "metadata": {},
   "outputs": [
    {
     "data": {
      "text/plain": [
       "Index(['id', 'msex', 'csex', 'grade'], dtype='object')"
      ]
     },
     "execution_count": 20,
     "metadata": {},
     "output_type": "execute_result"
    }
   ],
   "source": [
    "df.columns"
   ]
  },
  {
   "cell_type": "code",
   "execution_count": 27,
   "metadata": {},
   "outputs": [],
   "source": [
    "dval=pd.DataFrame(df.values)"
   ]
  },
  {
   "cell_type": "code",
   "execution_count": 30,
   "metadata": {},
   "outputs": [
    {
     "data": {
      "text/plain": [
       "array([[1, 'Male', 1, 3],\n",
       "       [2, 'Male', 1, 4],\n",
       "       [3, 'Male', 1, 5],\n",
       "       [4, 'Male', 1, 3],\n",
       "       [5, 'Male', 1, 2],\n",
       "       [6, 'Male', 1, 5],\n",
       "       [7, 'Male', 1, 4],\n",
       "       [8, 'Male', 1, 4],\n",
       "       [9, 'Male', 1, 5],\n",
       "       [10, 'Male', 1, 3],\n",
       "       [11, 'Male', 1, 2],\n",
       "       [12, 'Male', 1, 5],\n",
       "       [13, 'Male', 1, 5],\n",
       "       [14, 'Male', 1, 5],\n",
       "       [15, 'Male', 1, 3],\n",
       "       [16, 'Male', 1, 2],\n",
       "       [17, 'Male', 1, 1],\n",
       "       [18, 'Male', 1, 2],\n",
       "       [19, 'Male', 1, 5],\n",
       "       [20, 'Male', 1, 5],\n",
       "       [21, 'Male', 1, 6],\n",
       "       [22, 'Male', 1, 3],\n",
       "       [23, 'Male', 1, 5],\n",
       "       [24, 'Male', 1, 4],\n",
       "       [25, 'Male', 1, 1],\n",
       "       [26, 'Male', 1, 2],\n",
       "       [27, 'Male', 1, 3],\n",
       "       [28, 'Male', 1, 5],\n",
       "       [29, 'Male', 1, 4],\n",
       "       [30, 'Male', 1, 5],\n",
       "       [31, 'Male', 1, 6],\n",
       "       [32, 'Male', 1, 7],\n",
       "       [33, 'Male', 1, 8],\n",
       "       [34, 'Male', 1, 9],\n",
       "       [35, 'Male', 1, 1],\n",
       "       [36, 'Male', 1, 2],\n",
       "       [37, 'Male', 1, 3],\n",
       "       [38, 'Male', 1, 3],\n",
       "       [39, 'Male', 1, 4],\n",
       "       [40, 'Male', 1, 5],\n",
       "       [41, 'Male', 1, 6],\n",
       "       [42, 'Male', 1, 7],\n",
       "       [43, 'Male', 1, 8],\n",
       "       [44, 'Male', 1, 1],\n",
       "       [45, 'Male', 1, 2],\n",
       "       [46, 'Male', 1, 2],\n",
       "       [47, 'Male', 1, 3],\n",
       "       [48, 'Male', 1, 2],\n",
       "       [49, 'Male', 1, 4],\n",
       "       [50, 'Male', 1, 2]], dtype=object)"
      ]
     },
     "execution_count": 30,
     "metadata": {},
     "output_type": "execute_result"
    }
   ],
   "source": [
    "df.values"
   ]
  },
  {
   "cell_type": "code",
   "execution_count": 36,
   "metadata": {},
   "outputs": [
    {
     "data": {
      "text/plain": [
       "id          6\n",
       "msex     Male\n",
       "csex        1\n",
       "grade       5\n",
       "Name: 5, dtype: object"
      ]
     },
     "execution_count": 36,
     "metadata": {},
     "output_type": "execute_result"
    }
   ],
   "source": [
    "# Dataframe에서 행 선택하기\n",
    "df.iloc[5]"
   ]
  },
  {
   "cell_type": "code",
   "execution_count": 41,
   "metadata": {},
   "outputs": [
    {
     "data": {
      "text/plain": [
       "0     Male\n",
       "1     Male\n",
       "2     Male\n",
       "3     Male\n",
       "4     Male\n",
       "5     Male\n",
       "6     Male\n",
       "7     Male\n",
       "8     Male\n",
       "9     Male\n",
       "10    Male\n",
       "11    Male\n",
       "12    Male\n",
       "13    Male\n",
       "14    Male\n",
       "15    Male\n",
       "16    Male\n",
       "17    Male\n",
       "18    Male\n",
       "19    Male\n",
       "20    Male\n",
       "21    Male\n",
       "22    Male\n",
       "23    Male\n",
       "24    Male\n",
       "25    Male\n",
       "26    Male\n",
       "27    Male\n",
       "28    Male\n",
       "29    Male\n",
       "30    Male\n",
       "31    Male\n",
       "32    Male\n",
       "33    Male\n",
       "34    Male\n",
       "35    Male\n",
       "36    Male\n",
       "37    Male\n",
       "38    Male\n",
       "39    Male\n",
       "40    Male\n",
       "41    Male\n",
       "42    Male\n",
       "43    Male\n",
       "44    Male\n",
       "45    Male\n",
       "46    Male\n",
       "47    Male\n",
       "48    Male\n",
       "49    Male\n",
       "Name: msex, dtype: object"
      ]
     },
     "execution_count": 41,
     "metadata": {},
     "output_type": "execute_result"
    }
   ],
   "source": [
    "# Dataframe에서 열 선택하기\n",
    "df.iloc[:,1] # 인덱스로 가져오기"
   ]
  },
  {
   "cell_type": "code",
   "execution_count": 51,
   "metadata": {},
   "outputs": [
    {
     "data": {
      "text/plain": [
       "0     Male\n",
       "1     Male\n",
       "2     Male\n",
       "3     Male\n",
       "4     Male\n",
       "5     Male\n",
       "6     Male\n",
       "7     Male\n",
       "8     Male\n",
       "9     Male\n",
       "10    Male\n",
       "11    Male\n",
       "12    Male\n",
       "13    Male\n",
       "14    Male\n",
       "15    Male\n",
       "16    Male\n",
       "17    Male\n",
       "18    Male\n",
       "19    Male\n",
       "20    Male\n",
       "21    Male\n",
       "22    Male\n",
       "23    Male\n",
       "24    Male\n",
       "25    Male\n",
       "26    Male\n",
       "27    Male\n",
       "28    Male\n",
       "29    Male\n",
       "30    Male\n",
       "31    Male\n",
       "32    Male\n",
       "33    Male\n",
       "34    Male\n",
       "35    Male\n",
       "36    Male\n",
       "37    Male\n",
       "38    Male\n",
       "39    Male\n",
       "40    Male\n",
       "41    Male\n",
       "42    Male\n",
       "43    Male\n",
       "44    Male\n",
       "45    Male\n",
       "46    Male\n",
       "47    Male\n",
       "48    Male\n",
       "49    Male\n",
       "Name: msex, dtype: object"
      ]
     },
     "execution_count": 51,
     "metadata": {},
     "output_type": "execute_result"
    }
   ],
   "source": [
    "df.loc[:,'msex'] # 열 이름으로 가져오기."
   ]
  },
  {
   "cell_type": "code",
   "execution_count": 52,
   "metadata": {},
   "outputs": [
    {
     "data": {
      "text/html": [
       "<div>\n",
       "<style scoped>\n",
       "    .dataframe tbody tr th:only-of-type {\n",
       "        vertical-align: middle;\n",
       "    }\n",
       "\n",
       "    .dataframe tbody tr th {\n",
       "        vertical-align: top;\n",
       "    }\n",
       "\n",
       "    .dataframe thead th {\n",
       "        text-align: right;\n",
       "    }\n",
       "</style>\n",
       "<table border=\"1\" class=\"dataframe\">\n",
       "  <thead>\n",
       "    <tr style=\"text-align: right;\">\n",
       "      <th></th>\n",
       "      <th>msex</th>\n",
       "      <th>csex</th>\n",
       "      <th>grade</th>\n",
       "    </tr>\n",
       "  </thead>\n",
       "  <tbody>\n",
       "    <tr>\n",
       "      <th>0</th>\n",
       "      <td>Male</td>\n",
       "      <td>1</td>\n",
       "      <td>3</td>\n",
       "    </tr>\n",
       "    <tr>\n",
       "      <th>1</th>\n",
       "      <td>Male</td>\n",
       "      <td>1</td>\n",
       "      <td>4</td>\n",
       "    </tr>\n",
       "    <tr>\n",
       "      <th>2</th>\n",
       "      <td>Male</td>\n",
       "      <td>1</td>\n",
       "      <td>5</td>\n",
       "    </tr>\n",
       "    <tr>\n",
       "      <th>3</th>\n",
       "      <td>Male</td>\n",
       "      <td>1</td>\n",
       "      <td>3</td>\n",
       "    </tr>\n",
       "    <tr>\n",
       "      <th>4</th>\n",
       "      <td>Male</td>\n",
       "      <td>1</td>\n",
       "      <td>2</td>\n",
       "    </tr>\n",
       "  </tbody>\n",
       "</table>\n",
       "</div>"
      ],
      "text/plain": [
       "   msex  csex  grade\n",
       "0  Male     1      3\n",
       "1  Male     1      4\n",
       "2  Male     1      5\n",
       "3  Male     1      3\n",
       "4  Male     1      2"
      ]
     },
     "execution_count": 52,
     "metadata": {},
     "output_type": "execute_result"
    }
   ],
   "source": [
    "# column 삭제\n",
    "df = df.drop('id',axis=1)\n",
    "df.head()"
   ]
  },
  {
   "cell_type": "code",
   "execution_count": null,
   "metadata": {},
   "outputs": [],
   "source": []
  },
  {
   "cell_type": "code",
   "execution_count": null,
   "metadata": {},
   "outputs": [],
   "source": []
  }
 ],
 "metadata": {
  "kernelspec": {
   "display_name": "Python 3",
   "language": "python",
   "name": "python3"
  },
  "language_info": {
   "codemirror_mode": {
    "name": "ipython",
    "version": 3
   },
   "file_extension": ".py",
   "mimetype": "text/x-python",
   "name": "python",
   "nbconvert_exporter": "python",
   "pygments_lexer": "ipython3",
   "version": "3.6.2"
  }
 },
 "nbformat": 4,
 "nbformat_minor": 4
}
